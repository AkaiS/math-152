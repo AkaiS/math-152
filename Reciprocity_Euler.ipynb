{
  "nbformat": 4,
  "nbformat_minor": 0,
  "metadata": {
    "colab": {
      "provenance": [],
      "authorship_tag": "ABX9TyPmm9jDCnzrs5Z2XbcgHCr2",
      "include_colab_link": true
    },
    "kernelspec": {
      "name": "python3",
      "display_name": "Python 3"
    },
    "language_info": {
      "name": "python"
    }
  },
  "cells": [
    {
      "cell_type": "markdown",
      "metadata": {
        "id": "view-in-github",
        "colab_type": "text"
      },
      "source": [
        "<a href=\"https://colab.research.google.com/github/AkaiS/math-152/blob/main/Reciprocity_Euler.ipynb\" target=\"_parent\"><img src=\"https://colab.research.google.com/assets/colab-badge.svg\" alt=\"Open In Colab\"/></a>"
      ]
    },
    {
      "cell_type": "code",
      "execution_count": null,
      "metadata": {
        "id": "_G3r5O6yv2vA"
      },
      "outputs": [],
      "source": [
        "from math import sqrt\n",
        "\n",
        "def isprime_list(n):\n",
        "    ''' \n",
        "    Return a list of length n+1\n",
        "    with Trues at prime indices and Falses at composite indices.\n",
        "    '''\n",
        "    flags = [True] * (n+1)  # A list [True, True, True,...] to start.\n",
        "    flags[0] = False  # Zero is not prime.  So its flag is set to False.\n",
        "    flags[1] = False  # One is not prime.  So its flag is set to False.\n",
        "    flags[4::2] = [False] * ((n-2)//2)\n",
        "    p = 3\n",
        "    while p <= sqrt(n):  # We only need to sieve by p is p <= sqrt(n).\n",
        "        if flags[p]:  # We sieve the multiples of p if flags[p]=True.\n",
        "            flags[p*p::2*p] = [False] * ((n-p*p)//(2*p)+1) # Sieves out multiples of p, starting at p*p.\n",
        "        p = p + 2 # Try the next value of p.\n",
        "        \n",
        "    return flags\n",
        "\n",
        "def where(L):\n",
        "    '''\n",
        "    Take a list of booleans as input and\n",
        "    outputs the list of indices where True occurs.\n",
        "    '''\n",
        "    return [n for n in range(len(L)) if L[n]]\n",
        "\n",
        "primes = where(isprime_list(1000000)) # The primes up to 1 million, in a list."
      ]
    },
    {
      "cell_type": "code",
      "source": [
        "from math import sqrt,floor,ceil\n",
        "\n",
        "def Euler(p, N):\n",
        "  x_max = floor(sqrt(p))\n",
        "  y_max = ceil(sqrt(p) / N)\n",
        "  x = 1\n",
        "  y = 1\n",
        "  while(x <= x_max):\n",
        "    while(y <= y_max):\n",
        "      if(x**2 + N*y**2 == p):\n",
        "        return True\n",
        "      y += 1\n",
        "    y = 1\n",
        "    x += 1\n",
        "\n",
        "  return False\n",
        "\n",
        "def Euler_alt(p, N):\n",
        "  y = sqrt(p // N) // 1\n",
        "  while(y > 0):\n",
        "    remainder = sqrt(p - N*y**2)\n",
        "    if(remainder % 1 == 0 and remainder > 0):\n",
        "      return True\n",
        "    y -= 1\n",
        "\n",
        "  return False\n",
        "\n",
        "\n",
        "\n",
        "%timeit Euler(10001,7)\n",
        "%timeit Euler_alt(10001, 7)"
      ],
      "metadata": {
        "id": "KRLE2HWDyHtJ",
        "colab": {
          "base_uri": "https://localhost:8080/"
        },
        "outputId": "a4369314-925c-4aff-f412-de01863b9aa2"
      },
      "execution_count": 30,
      "outputs": [
        {
          "output_type": "stream",
          "name": "stdout",
          "text": [
            "881 µs ± 5.83 µs per loop (mean ± std. dev. of 7 runs, 1000 loops each)\n",
            "16.7 µs ± 4.16 µs per loop (mean ± std. dev. of 7 runs, 100000 loops each)\n"
          ]
        }
      ]
    },
    {
      "cell_type": "code",
      "source": [
        "def check_primes_with_Euler(N, number_of_primes_to_check):\n",
        "  primes_that_succeed = []\n",
        "  remainders = {}\n",
        "  for p in primes[:number_of_primes_to_check]:\n",
        "    if (Euler(p, N)):\n",
        "      primes_that_succeed.append(p)\n",
        "  for p in primes_that_succeed:\n",
        "    r = p % (4 * N)\n",
        "    try:\n",
        "      remainders[r] += 1\n",
        "    except:\n",
        "      remainders[r] = 1\n",
        "\n",
        "  print(remainders)\n",
        "check_primes_with_Euler(15, 1000)"
      ],
      "metadata": {
        "colab": {
          "base_uri": "https://localhost:8080/"
        },
        "id": "__9itVq46VAp",
        "outputId": "1e05f18f-505d-4dcc-fef4-d364ee3a49c6"
      },
      "execution_count": null,
      "outputs": [
        {
          "output_type": "stream",
          "name": "stdout",
          "text": [
            "{19: 16, 31: 16, 49: 13, 1: 9}\n"
          ]
        }
      ]
    },
    {
      "cell_type": "markdown",
      "source": [],
      "metadata": {
        "id": "v8caL1cZ1C1Q"
      }
    }
  ]
}